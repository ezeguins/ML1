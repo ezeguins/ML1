{
  "cells": [
    {
      "cell_type": "markdown",
      "id": "4deb9c32",
      "metadata": {
        "id": "4deb9c32"
      },
      "source": [
        "Una plataforma de ventas online nos contrata para que realicemos un modelo que nos<br> \n",
        "permita detectar un posible fraude dada cierta operación para ello contamos con un dataset<br> \n",
        "que contiene las siguientes columnas:<p>\n",
        "(dataset: https://www.kaggle.com/datasets/rupakroy/online-payments-fraud-detection-dataset)<p>\n",
        "● Step: representa una unidad de tiempo donde 1 step equivale a 1 hora<br> \n",
        "● type: tipo de transacción en línea<br> \n",
        "● amount: el importe de la transacción<br> \n",
        "● nameOrig: cliente que inicia la transacción<br> \n",
        "● oldbalanceOrg: saldo antes de la transacción<br> \n",
        "● newbalanceOrig: saldo después de la transacción<br> \n",
        "● nameDest: destinatario de la transacción<br> \n",
        "● oldbalanceDest: saldo inicial del destinatario antes de la transacción<br> \n",
        "● newbalanceDest: el nuevo saldo del destinatario después de la transacción<br> \n",
        "● isFraud: transacción fraudulenta<br> \n",
        "Utilizando los modelos de clasificación vistos hasta el momento generar un notebook que<br> \n",
        "permita de ser posible resolver el problema que nos está planteando el cliente."
      ]
    },
    {
      "cell_type": "code",
      "execution_count": 1,
      "id": "081a70ca",
      "metadata": {
        "id": "081a70ca"
      },
      "outputs": [],
      "source": [
        "# Import libraries\n",
        "import numpy as np\n",
        "import cv2 as cv\n",
        "import matplotlib.pyplot as plt\n",
        "import seaborn as sns\n",
        "import pandas as pd\n",
        "# Se ignoran los \"FutureWarnings\" molestos\n",
        "import warnings\n",
        "warnings.simplefilter(action='ignore', category=FutureWarning) "
      ]
    },
    {
      "cell_type": "code",
      "source": [
        "from imblearn.under_sampling import RandomUnderSampler"
      ],
      "metadata": {
        "id": "DFH7vunR5Xu4"
      },
      "id": "DFH7vunR5Xu4",
      "execution_count": 2,
      "outputs": []
    },
    {
      "cell_type": "markdown",
      "id": "3205561a",
      "metadata": {
        "id": "3205561a"
      },
      "source": [
        "## ANALISIS DEL DATASET Y PRE-TRATAMIENTO"
      ]
    },
    {
      "cell_type": "code",
      "execution_count": 3,
      "id": "9a234adc",
      "metadata": {
        "id": "9a234adc"
      },
      "outputs": [],
      "source": [
        "# Leemos el archivo\n",
        "DATASET_PATH = '/content/PS_20174392719_1491204439457_log.csv'\n",
        "dataset = pd.read_csv(DATASET_PATH)\n",
        "dataset_=dataset.copy()"
      ]
    },
    {
      "cell_type": "code",
      "execution_count": 4,
      "id": "6714087e",
      "metadata": {
        "id": "6714087e",
        "outputId": "6d7dbd55-46ae-46c6-faf7-f75c98ec35e1",
        "colab": {
          "base_uri": "https://localhost:8080/",
          "height": 520
        }
      },
      "outputs": [
        {
          "output_type": "execute_result",
          "data": {
            "text/plain": [
              "    step      type    amount     nameOrig  oldbalanceOrg  newbalanceOrig  \\\n",
              "0      1   PAYMENT   9839.64  C1231006815      170136.00       160296.36   \n",
              "1      1   PAYMENT   1864.28  C1666544295       21249.00        19384.72   \n",
              "2      1  TRANSFER    181.00  C1305486145         181.00            0.00   \n",
              "3      1  CASH_OUT    181.00   C840083671         181.00            0.00   \n",
              "4      1   PAYMENT  11668.14  C2048537720       41554.00        29885.86   \n",
              "5      1   PAYMENT   7817.71    C90045638       53860.00        46042.29   \n",
              "6      1   PAYMENT   7107.77   C154988899      183195.00       176087.23   \n",
              "7      1   PAYMENT   7861.64  C1912850431      176087.23       168225.59   \n",
              "8      1   PAYMENT   4024.36  C1265012928        2671.00            0.00   \n",
              "9      1     DEBIT   5337.77   C712410124       41720.00        36382.23   \n",
              "10     1     DEBIT   9644.94  C1900366749        4465.00            0.00   \n",
              "11     1   PAYMENT   3099.97   C249177573       20771.00        17671.03   \n",
              "12     1   PAYMENT   2560.74  C1648232591        5070.00         2509.26   \n",
              "13     1   PAYMENT  11633.76  C1716932897       10127.00            0.00   \n",
              "14     1   PAYMENT   4098.78  C1026483832      503264.00       499165.22   \n",
              "\n",
              "       nameDest  oldbalanceDest  newbalanceDest  isFraud  isFlaggedFraud  \n",
              "0   M1979787155             0.0            0.00        0               0  \n",
              "1   M2044282225             0.0            0.00        0               0  \n",
              "2    C553264065             0.0            0.00        1               0  \n",
              "3     C38997010         21182.0            0.00        1               0  \n",
              "4   M1230701703             0.0            0.00        0               0  \n",
              "5    M573487274             0.0            0.00        0               0  \n",
              "6    M408069119             0.0            0.00        0               0  \n",
              "7    M633326333             0.0            0.00        0               0  \n",
              "8   M1176932104             0.0            0.00        0               0  \n",
              "9    C195600860         41898.0        40348.79        0               0  \n",
              "10   C997608398         10845.0       157982.12        0               0  \n",
              "11  M2096539129             0.0            0.00        0               0  \n",
              "12   M972865270             0.0            0.00        0               0  \n",
              "13   M801569151             0.0            0.00        0               0  \n",
              "14  M1635378213             0.0            0.00        0               0  "
            ],
            "text/html": [
              "\n",
              "  <div id=\"df-541f04f7-f599-489c-a4be-8f6ff13d9207\">\n",
              "    <div class=\"colab-df-container\">\n",
              "      <div>\n",
              "<style scoped>\n",
              "    .dataframe tbody tr th:only-of-type {\n",
              "        vertical-align: middle;\n",
              "    }\n",
              "\n",
              "    .dataframe tbody tr th {\n",
              "        vertical-align: top;\n",
              "    }\n",
              "\n",
              "    .dataframe thead th {\n",
              "        text-align: right;\n",
              "    }\n",
              "</style>\n",
              "<table border=\"1\" class=\"dataframe\">\n",
              "  <thead>\n",
              "    <tr style=\"text-align: right;\">\n",
              "      <th></th>\n",
              "      <th>step</th>\n",
              "      <th>type</th>\n",
              "      <th>amount</th>\n",
              "      <th>nameOrig</th>\n",
              "      <th>oldbalanceOrg</th>\n",
              "      <th>newbalanceOrig</th>\n",
              "      <th>nameDest</th>\n",
              "      <th>oldbalanceDest</th>\n",
              "      <th>newbalanceDest</th>\n",
              "      <th>isFraud</th>\n",
              "      <th>isFlaggedFraud</th>\n",
              "    </tr>\n",
              "  </thead>\n",
              "  <tbody>\n",
              "    <tr>\n",
              "      <th>0</th>\n",
              "      <td>1</td>\n",
              "      <td>PAYMENT</td>\n",
              "      <td>9839.64</td>\n",
              "      <td>C1231006815</td>\n",
              "      <td>170136.00</td>\n",
              "      <td>160296.36</td>\n",
              "      <td>M1979787155</td>\n",
              "      <td>0.0</td>\n",
              "      <td>0.00</td>\n",
              "      <td>0</td>\n",
              "      <td>0</td>\n",
              "    </tr>\n",
              "    <tr>\n",
              "      <th>1</th>\n",
              "      <td>1</td>\n",
              "      <td>PAYMENT</td>\n",
              "      <td>1864.28</td>\n",
              "      <td>C1666544295</td>\n",
              "      <td>21249.00</td>\n",
              "      <td>19384.72</td>\n",
              "      <td>M2044282225</td>\n",
              "      <td>0.0</td>\n",
              "      <td>0.00</td>\n",
              "      <td>0</td>\n",
              "      <td>0</td>\n",
              "    </tr>\n",
              "    <tr>\n",
              "      <th>2</th>\n",
              "      <td>1</td>\n",
              "      <td>TRANSFER</td>\n",
              "      <td>181.00</td>\n",
              "      <td>C1305486145</td>\n",
              "      <td>181.00</td>\n",
              "      <td>0.00</td>\n",
              "      <td>C553264065</td>\n",
              "      <td>0.0</td>\n",
              "      <td>0.00</td>\n",
              "      <td>1</td>\n",
              "      <td>0</td>\n",
              "    </tr>\n",
              "    <tr>\n",
              "      <th>3</th>\n",
              "      <td>1</td>\n",
              "      <td>CASH_OUT</td>\n",
              "      <td>181.00</td>\n",
              "      <td>C840083671</td>\n",
              "      <td>181.00</td>\n",
              "      <td>0.00</td>\n",
              "      <td>C38997010</td>\n",
              "      <td>21182.0</td>\n",
              "      <td>0.00</td>\n",
              "      <td>1</td>\n",
              "      <td>0</td>\n",
              "    </tr>\n",
              "    <tr>\n",
              "      <th>4</th>\n",
              "      <td>1</td>\n",
              "      <td>PAYMENT</td>\n",
              "      <td>11668.14</td>\n",
              "      <td>C2048537720</td>\n",
              "      <td>41554.00</td>\n",
              "      <td>29885.86</td>\n",
              "      <td>M1230701703</td>\n",
              "      <td>0.0</td>\n",
              "      <td>0.00</td>\n",
              "      <td>0</td>\n",
              "      <td>0</td>\n",
              "    </tr>\n",
              "    <tr>\n",
              "      <th>5</th>\n",
              "      <td>1</td>\n",
              "      <td>PAYMENT</td>\n",
              "      <td>7817.71</td>\n",
              "      <td>C90045638</td>\n",
              "      <td>53860.00</td>\n",
              "      <td>46042.29</td>\n",
              "      <td>M573487274</td>\n",
              "      <td>0.0</td>\n",
              "      <td>0.00</td>\n",
              "      <td>0</td>\n",
              "      <td>0</td>\n",
              "    </tr>\n",
              "    <tr>\n",
              "      <th>6</th>\n",
              "      <td>1</td>\n",
              "      <td>PAYMENT</td>\n",
              "      <td>7107.77</td>\n",
              "      <td>C154988899</td>\n",
              "      <td>183195.00</td>\n",
              "      <td>176087.23</td>\n",
              "      <td>M408069119</td>\n",
              "      <td>0.0</td>\n",
              "      <td>0.00</td>\n",
              "      <td>0</td>\n",
              "      <td>0</td>\n",
              "    </tr>\n",
              "    <tr>\n",
              "      <th>7</th>\n",
              "      <td>1</td>\n",
              "      <td>PAYMENT</td>\n",
              "      <td>7861.64</td>\n",
              "      <td>C1912850431</td>\n",
              "      <td>176087.23</td>\n",
              "      <td>168225.59</td>\n",
              "      <td>M633326333</td>\n",
              "      <td>0.0</td>\n",
              "      <td>0.00</td>\n",
              "      <td>0</td>\n",
              "      <td>0</td>\n",
              "    </tr>\n",
              "    <tr>\n",
              "      <th>8</th>\n",
              "      <td>1</td>\n",
              "      <td>PAYMENT</td>\n",
              "      <td>4024.36</td>\n",
              "      <td>C1265012928</td>\n",
              "      <td>2671.00</td>\n",
              "      <td>0.00</td>\n",
              "      <td>M1176932104</td>\n",
              "      <td>0.0</td>\n",
              "      <td>0.00</td>\n",
              "      <td>0</td>\n",
              "      <td>0</td>\n",
              "    </tr>\n",
              "    <tr>\n",
              "      <th>9</th>\n",
              "      <td>1</td>\n",
              "      <td>DEBIT</td>\n",
              "      <td>5337.77</td>\n",
              "      <td>C712410124</td>\n",
              "      <td>41720.00</td>\n",
              "      <td>36382.23</td>\n",
              "      <td>C195600860</td>\n",
              "      <td>41898.0</td>\n",
              "      <td>40348.79</td>\n",
              "      <td>0</td>\n",
              "      <td>0</td>\n",
              "    </tr>\n",
              "    <tr>\n",
              "      <th>10</th>\n",
              "      <td>1</td>\n",
              "      <td>DEBIT</td>\n",
              "      <td>9644.94</td>\n",
              "      <td>C1900366749</td>\n",
              "      <td>4465.00</td>\n",
              "      <td>0.00</td>\n",
              "      <td>C997608398</td>\n",
              "      <td>10845.0</td>\n",
              "      <td>157982.12</td>\n",
              "      <td>0</td>\n",
              "      <td>0</td>\n",
              "    </tr>\n",
              "    <tr>\n",
              "      <th>11</th>\n",
              "      <td>1</td>\n",
              "      <td>PAYMENT</td>\n",
              "      <td>3099.97</td>\n",
              "      <td>C249177573</td>\n",
              "      <td>20771.00</td>\n",
              "      <td>17671.03</td>\n",
              "      <td>M2096539129</td>\n",
              "      <td>0.0</td>\n",
              "      <td>0.00</td>\n",
              "      <td>0</td>\n",
              "      <td>0</td>\n",
              "    </tr>\n",
              "    <tr>\n",
              "      <th>12</th>\n",
              "      <td>1</td>\n",
              "      <td>PAYMENT</td>\n",
              "      <td>2560.74</td>\n",
              "      <td>C1648232591</td>\n",
              "      <td>5070.00</td>\n",
              "      <td>2509.26</td>\n",
              "      <td>M972865270</td>\n",
              "      <td>0.0</td>\n",
              "      <td>0.00</td>\n",
              "      <td>0</td>\n",
              "      <td>0</td>\n",
              "    </tr>\n",
              "    <tr>\n",
              "      <th>13</th>\n",
              "      <td>1</td>\n",
              "      <td>PAYMENT</td>\n",
              "      <td>11633.76</td>\n",
              "      <td>C1716932897</td>\n",
              "      <td>10127.00</td>\n",
              "      <td>0.00</td>\n",
              "      <td>M801569151</td>\n",
              "      <td>0.0</td>\n",
              "      <td>0.00</td>\n",
              "      <td>0</td>\n",
              "      <td>0</td>\n",
              "    </tr>\n",
              "    <tr>\n",
              "      <th>14</th>\n",
              "      <td>1</td>\n",
              "      <td>PAYMENT</td>\n",
              "      <td>4098.78</td>\n",
              "      <td>C1026483832</td>\n",
              "      <td>503264.00</td>\n",
              "      <td>499165.22</td>\n",
              "      <td>M1635378213</td>\n",
              "      <td>0.0</td>\n",
              "      <td>0.00</td>\n",
              "      <td>0</td>\n",
              "      <td>0</td>\n",
              "    </tr>\n",
              "  </tbody>\n",
              "</table>\n",
              "</div>\n",
              "      <button class=\"colab-df-convert\" onclick=\"convertToInteractive('df-541f04f7-f599-489c-a4be-8f6ff13d9207')\"\n",
              "              title=\"Convert this dataframe to an interactive table.\"\n",
              "              style=\"display:none;\">\n",
              "        \n",
              "  <svg xmlns=\"http://www.w3.org/2000/svg\" height=\"24px\"viewBox=\"0 0 24 24\"\n",
              "       width=\"24px\">\n",
              "    <path d=\"M0 0h24v24H0V0z\" fill=\"none\"/>\n",
              "    <path d=\"M18.56 5.44l.94 2.06.94-2.06 2.06-.94-2.06-.94-.94-2.06-.94 2.06-2.06.94zm-11 1L8.5 8.5l.94-2.06 2.06-.94-2.06-.94L8.5 2.5l-.94 2.06-2.06.94zm10 10l.94 2.06.94-2.06 2.06-.94-2.06-.94-.94-2.06-.94 2.06-2.06.94z\"/><path d=\"M17.41 7.96l-1.37-1.37c-.4-.4-.92-.59-1.43-.59-.52 0-1.04.2-1.43.59L10.3 9.45l-7.72 7.72c-.78.78-.78 2.05 0 2.83L4 21.41c.39.39.9.59 1.41.59.51 0 1.02-.2 1.41-.59l7.78-7.78 2.81-2.81c.8-.78.8-2.07 0-2.86zM5.41 20L4 18.59l7.72-7.72 1.47 1.35L5.41 20z\"/>\n",
              "  </svg>\n",
              "      </button>\n",
              "      \n",
              "  <style>\n",
              "    .colab-df-container {\n",
              "      display:flex;\n",
              "      flex-wrap:wrap;\n",
              "      gap: 12px;\n",
              "    }\n",
              "\n",
              "    .colab-df-convert {\n",
              "      background-color: #E8F0FE;\n",
              "      border: none;\n",
              "      border-radius: 50%;\n",
              "      cursor: pointer;\n",
              "      display: none;\n",
              "      fill: #1967D2;\n",
              "      height: 32px;\n",
              "      padding: 0 0 0 0;\n",
              "      width: 32px;\n",
              "    }\n",
              "\n",
              "    .colab-df-convert:hover {\n",
              "      background-color: #E2EBFA;\n",
              "      box-shadow: 0px 1px 2px rgba(60, 64, 67, 0.3), 0px 1px 3px 1px rgba(60, 64, 67, 0.15);\n",
              "      fill: #174EA6;\n",
              "    }\n",
              "\n",
              "    [theme=dark] .colab-df-convert {\n",
              "      background-color: #3B4455;\n",
              "      fill: #D2E3FC;\n",
              "    }\n",
              "\n",
              "    [theme=dark] .colab-df-convert:hover {\n",
              "      background-color: #434B5C;\n",
              "      box-shadow: 0px 1px 3px 1px rgba(0, 0, 0, 0.15);\n",
              "      filter: drop-shadow(0px 1px 2px rgba(0, 0, 0, 0.3));\n",
              "      fill: #FFFFFF;\n",
              "    }\n",
              "  </style>\n",
              "\n",
              "      <script>\n",
              "        const buttonEl =\n",
              "          document.querySelector('#df-541f04f7-f599-489c-a4be-8f6ff13d9207 button.colab-df-convert');\n",
              "        buttonEl.style.display =\n",
              "          google.colab.kernel.accessAllowed ? 'block' : 'none';\n",
              "\n",
              "        async function convertToInteractive(key) {\n",
              "          const element = document.querySelector('#df-541f04f7-f599-489c-a4be-8f6ff13d9207');\n",
              "          const dataTable =\n",
              "            await google.colab.kernel.invokeFunction('convertToInteractive',\n",
              "                                                     [key], {});\n",
              "          if (!dataTable) return;\n",
              "\n",
              "          const docLinkHtml = 'Like what you see? Visit the ' +\n",
              "            '<a target=\"_blank\" href=https://colab.research.google.com/notebooks/data_table.ipynb>data table notebook</a>'\n",
              "            + ' to learn more about interactive tables.';\n",
              "          element.innerHTML = '';\n",
              "          dataTable['output_type'] = 'display_data';\n",
              "          await google.colab.output.renderOutput(dataTable, element);\n",
              "          const docLink = document.createElement('div');\n",
              "          docLink.innerHTML = docLinkHtml;\n",
              "          element.appendChild(docLink);\n",
              "        }\n",
              "      </script>\n",
              "    </div>\n",
              "  </div>\n",
              "  "
            ]
          },
          "metadata": {},
          "execution_count": 4
        }
      ],
      "source": [
        "# Visualizamos las primeras 5 filas\n",
        "dataset.head(15)"
      ]
    },
    {
      "cell_type": "code",
      "execution_count": 5,
      "id": "15b4016d",
      "metadata": {
        "id": "15b4016d",
        "outputId": "fbcdd989-9b9f-4f67-afdf-5d07b4e96666",
        "colab": {
          "base_uri": "https://localhost:8080/",
          "height": 300
        }
      },
      "outputs": [
        {
          "output_type": "execute_result",
          "data": {
            "text/plain": [
              "               step        amount  oldbalanceOrg  newbalanceOrig  \\\n",
              "count  6.362620e+06  6.362620e+06   6.362620e+06    6.362620e+06   \n",
              "mean   2.433972e+02  1.798619e+05   8.338831e+05    8.551137e+05   \n",
              "std    1.423320e+02  6.038582e+05   2.888243e+06    2.924049e+06   \n",
              "min    1.000000e+00  0.000000e+00   0.000000e+00    0.000000e+00   \n",
              "25%    1.560000e+02  1.338957e+04   0.000000e+00    0.000000e+00   \n",
              "50%    2.390000e+02  7.487194e+04   1.420800e+04    0.000000e+00   \n",
              "75%    3.350000e+02  2.087215e+05   1.073152e+05    1.442584e+05   \n",
              "max    7.430000e+02  9.244552e+07   5.958504e+07    4.958504e+07   \n",
              "\n",
              "       oldbalanceDest  newbalanceDest       isFraud  isFlaggedFraud  \n",
              "count    6.362620e+06    6.362620e+06  6.362620e+06    6.362620e+06  \n",
              "mean     1.100702e+06    1.224996e+06  1.290820e-03    2.514687e-06  \n",
              "std      3.399180e+06    3.674129e+06  3.590480e-02    1.585775e-03  \n",
              "min      0.000000e+00    0.000000e+00  0.000000e+00    0.000000e+00  \n",
              "25%      0.000000e+00    0.000000e+00  0.000000e+00    0.000000e+00  \n",
              "50%      1.327057e+05    2.146614e+05  0.000000e+00    0.000000e+00  \n",
              "75%      9.430367e+05    1.111909e+06  0.000000e+00    0.000000e+00  \n",
              "max      3.560159e+08    3.561793e+08  1.000000e+00    1.000000e+00  "
            ],
            "text/html": [
              "\n",
              "  <div id=\"df-b5c0d8cf-a0df-4955-bc1f-1632b5dde43f\">\n",
              "    <div class=\"colab-df-container\">\n",
              "      <div>\n",
              "<style scoped>\n",
              "    .dataframe tbody tr th:only-of-type {\n",
              "        vertical-align: middle;\n",
              "    }\n",
              "\n",
              "    .dataframe tbody tr th {\n",
              "        vertical-align: top;\n",
              "    }\n",
              "\n",
              "    .dataframe thead th {\n",
              "        text-align: right;\n",
              "    }\n",
              "</style>\n",
              "<table border=\"1\" class=\"dataframe\">\n",
              "  <thead>\n",
              "    <tr style=\"text-align: right;\">\n",
              "      <th></th>\n",
              "      <th>step</th>\n",
              "      <th>amount</th>\n",
              "      <th>oldbalanceOrg</th>\n",
              "      <th>newbalanceOrig</th>\n",
              "      <th>oldbalanceDest</th>\n",
              "      <th>newbalanceDest</th>\n",
              "      <th>isFraud</th>\n",
              "      <th>isFlaggedFraud</th>\n",
              "    </tr>\n",
              "  </thead>\n",
              "  <tbody>\n",
              "    <tr>\n",
              "      <th>count</th>\n",
              "      <td>6.362620e+06</td>\n",
              "      <td>6.362620e+06</td>\n",
              "      <td>6.362620e+06</td>\n",
              "      <td>6.362620e+06</td>\n",
              "      <td>6.362620e+06</td>\n",
              "      <td>6.362620e+06</td>\n",
              "      <td>6.362620e+06</td>\n",
              "      <td>6.362620e+06</td>\n",
              "    </tr>\n",
              "    <tr>\n",
              "      <th>mean</th>\n",
              "      <td>2.433972e+02</td>\n",
              "      <td>1.798619e+05</td>\n",
              "      <td>8.338831e+05</td>\n",
              "      <td>8.551137e+05</td>\n",
              "      <td>1.100702e+06</td>\n",
              "      <td>1.224996e+06</td>\n",
              "      <td>1.290820e-03</td>\n",
              "      <td>2.514687e-06</td>\n",
              "    </tr>\n",
              "    <tr>\n",
              "      <th>std</th>\n",
              "      <td>1.423320e+02</td>\n",
              "      <td>6.038582e+05</td>\n",
              "      <td>2.888243e+06</td>\n",
              "      <td>2.924049e+06</td>\n",
              "      <td>3.399180e+06</td>\n",
              "      <td>3.674129e+06</td>\n",
              "      <td>3.590480e-02</td>\n",
              "      <td>1.585775e-03</td>\n",
              "    </tr>\n",
              "    <tr>\n",
              "      <th>min</th>\n",
              "      <td>1.000000e+00</td>\n",
              "      <td>0.000000e+00</td>\n",
              "      <td>0.000000e+00</td>\n",
              "      <td>0.000000e+00</td>\n",
              "      <td>0.000000e+00</td>\n",
              "      <td>0.000000e+00</td>\n",
              "      <td>0.000000e+00</td>\n",
              "      <td>0.000000e+00</td>\n",
              "    </tr>\n",
              "    <tr>\n",
              "      <th>25%</th>\n",
              "      <td>1.560000e+02</td>\n",
              "      <td>1.338957e+04</td>\n",
              "      <td>0.000000e+00</td>\n",
              "      <td>0.000000e+00</td>\n",
              "      <td>0.000000e+00</td>\n",
              "      <td>0.000000e+00</td>\n",
              "      <td>0.000000e+00</td>\n",
              "      <td>0.000000e+00</td>\n",
              "    </tr>\n",
              "    <tr>\n",
              "      <th>50%</th>\n",
              "      <td>2.390000e+02</td>\n",
              "      <td>7.487194e+04</td>\n",
              "      <td>1.420800e+04</td>\n",
              "      <td>0.000000e+00</td>\n",
              "      <td>1.327057e+05</td>\n",
              "      <td>2.146614e+05</td>\n",
              "      <td>0.000000e+00</td>\n",
              "      <td>0.000000e+00</td>\n",
              "    </tr>\n",
              "    <tr>\n",
              "      <th>75%</th>\n",
              "      <td>3.350000e+02</td>\n",
              "      <td>2.087215e+05</td>\n",
              "      <td>1.073152e+05</td>\n",
              "      <td>1.442584e+05</td>\n",
              "      <td>9.430367e+05</td>\n",
              "      <td>1.111909e+06</td>\n",
              "      <td>0.000000e+00</td>\n",
              "      <td>0.000000e+00</td>\n",
              "    </tr>\n",
              "    <tr>\n",
              "      <th>max</th>\n",
              "      <td>7.430000e+02</td>\n",
              "      <td>9.244552e+07</td>\n",
              "      <td>5.958504e+07</td>\n",
              "      <td>4.958504e+07</td>\n",
              "      <td>3.560159e+08</td>\n",
              "      <td>3.561793e+08</td>\n",
              "      <td>1.000000e+00</td>\n",
              "      <td>1.000000e+00</td>\n",
              "    </tr>\n",
              "  </tbody>\n",
              "</table>\n",
              "</div>\n",
              "      <button class=\"colab-df-convert\" onclick=\"convertToInteractive('df-b5c0d8cf-a0df-4955-bc1f-1632b5dde43f')\"\n",
              "              title=\"Convert this dataframe to an interactive table.\"\n",
              "              style=\"display:none;\">\n",
              "        \n",
              "  <svg xmlns=\"http://www.w3.org/2000/svg\" height=\"24px\"viewBox=\"0 0 24 24\"\n",
              "       width=\"24px\">\n",
              "    <path d=\"M0 0h24v24H0V0z\" fill=\"none\"/>\n",
              "    <path d=\"M18.56 5.44l.94 2.06.94-2.06 2.06-.94-2.06-.94-.94-2.06-.94 2.06-2.06.94zm-11 1L8.5 8.5l.94-2.06 2.06-.94-2.06-.94L8.5 2.5l-.94 2.06-2.06.94zm10 10l.94 2.06.94-2.06 2.06-.94-2.06-.94-.94-2.06-.94 2.06-2.06.94z\"/><path d=\"M17.41 7.96l-1.37-1.37c-.4-.4-.92-.59-1.43-.59-.52 0-1.04.2-1.43.59L10.3 9.45l-7.72 7.72c-.78.78-.78 2.05 0 2.83L4 21.41c.39.39.9.59 1.41.59.51 0 1.02-.2 1.41-.59l7.78-7.78 2.81-2.81c.8-.78.8-2.07 0-2.86zM5.41 20L4 18.59l7.72-7.72 1.47 1.35L5.41 20z\"/>\n",
              "  </svg>\n",
              "      </button>\n",
              "      \n",
              "  <style>\n",
              "    .colab-df-container {\n",
              "      display:flex;\n",
              "      flex-wrap:wrap;\n",
              "      gap: 12px;\n",
              "    }\n",
              "\n",
              "    .colab-df-convert {\n",
              "      background-color: #E8F0FE;\n",
              "      border: none;\n",
              "      border-radius: 50%;\n",
              "      cursor: pointer;\n",
              "      display: none;\n",
              "      fill: #1967D2;\n",
              "      height: 32px;\n",
              "      padding: 0 0 0 0;\n",
              "      width: 32px;\n",
              "    }\n",
              "\n",
              "    .colab-df-convert:hover {\n",
              "      background-color: #E2EBFA;\n",
              "      box-shadow: 0px 1px 2px rgba(60, 64, 67, 0.3), 0px 1px 3px 1px rgba(60, 64, 67, 0.15);\n",
              "      fill: #174EA6;\n",
              "    }\n",
              "\n",
              "    [theme=dark] .colab-df-convert {\n",
              "      background-color: #3B4455;\n",
              "      fill: #D2E3FC;\n",
              "    }\n",
              "\n",
              "    [theme=dark] .colab-df-convert:hover {\n",
              "      background-color: #434B5C;\n",
              "      box-shadow: 0px 1px 3px 1px rgba(0, 0, 0, 0.15);\n",
              "      filter: drop-shadow(0px 1px 2px rgba(0, 0, 0, 0.3));\n",
              "      fill: #FFFFFF;\n",
              "    }\n",
              "  </style>\n",
              "\n",
              "      <script>\n",
              "        const buttonEl =\n",
              "          document.querySelector('#df-b5c0d8cf-a0df-4955-bc1f-1632b5dde43f button.colab-df-convert');\n",
              "        buttonEl.style.display =\n",
              "          google.colab.kernel.accessAllowed ? 'block' : 'none';\n",
              "\n",
              "        async function convertToInteractive(key) {\n",
              "          const element = document.querySelector('#df-b5c0d8cf-a0df-4955-bc1f-1632b5dde43f');\n",
              "          const dataTable =\n",
              "            await google.colab.kernel.invokeFunction('convertToInteractive',\n",
              "                                                     [key], {});\n",
              "          if (!dataTable) return;\n",
              "\n",
              "          const docLinkHtml = 'Like what you see? Visit the ' +\n",
              "            '<a target=\"_blank\" href=https://colab.research.google.com/notebooks/data_table.ipynb>data table notebook</a>'\n",
              "            + ' to learn more about interactive tables.';\n",
              "          element.innerHTML = '';\n",
              "          dataTable['output_type'] = 'display_data';\n",
              "          await google.colab.output.renderOutput(dataTable, element);\n",
              "          const docLink = document.createElement('div');\n",
              "          docLink.innerHTML = docLinkHtml;\n",
              "          element.appendChild(docLink);\n",
              "        }\n",
              "      </script>\n",
              "    </div>\n",
              "  </div>\n",
              "  "
            ]
          },
          "metadata": {},
          "execution_count": 5
        }
      ],
      "source": [
        "# Visualizamos como se distribuyen las variables numéricas\n",
        "dataset.describe()"
      ]
    },
    {
      "cell_type": "code",
      "execution_count": 6,
      "id": "7cdcb012",
      "metadata": {
        "id": "7cdcb012",
        "outputId": "db83d954-3547-405d-d8e2-51911d21b6bd",
        "colab": {
          "base_uri": "https://localhost:8080/"
        }
      },
      "outputs": [
        {
          "output_type": "stream",
          "name": "stdout",
          "text": [
            "Cantidad de valores nulos en la columna step: 0\n",
            "Cantidad de valores nulos en la columna type: 0\n",
            "Cantidad de valores nulos en la columna amount: 0\n",
            "Cantidad de valores nulos en la columna nameOrig: 0\n",
            "Cantidad de valores nulos en la columna oldbalanceOrg: 0\n",
            "Cantidad de valores nulos en la columna newbalanceOrig: 0\n",
            "Cantidad de valores nulos en la columna nameDest: 0\n",
            "Cantidad de valores nulos en la columna oldbalanceDest: 0\n",
            "Cantidad de valores nulos en la columna newbalanceDest: 0\n",
            "Cantidad de valores nulos en la columna isFraud: 0\n",
            "Cantidad de valores nulos en la columna isFlaggedFraud: 0\n"
          ]
        }
      ],
      "source": [
        "# Observamos si existen datos faltantes en cada una de las variables\n",
        "for column in dataset:\n",
        "   tot=dataset[column].isnull().sum()\n",
        "   print(\"Cantidad de valores nulos en la columna {}: {}\".format(column,tot))"
      ]
    },
    {
      "cell_type": "markdown",
      "id": "a8b5ddad",
      "metadata": {
        "id": "a8b5ddad"
      },
      "source": [
        "### BUENA NOTICIA    ---> no hay valores nulos     ;)"
      ]
    },
    {
      "cell_type": "code",
      "execution_count": 7,
      "id": "659305a0",
      "metadata": {
        "id": "659305a0",
        "outputId": "a3b09bf3-92dd-4d41-96cc-348a54a7f250",
        "colab": {
          "base_uri": "https://localhost:8080/"
        }
      },
      "outputs": [
        {
          "output_type": "stream",
          "name": "stdout",
          "text": [
            "la cantidad de datos únicos para la variable nameOrig es de: 6353307\n",
            "la cantidad de datos únicos para la variable nameDest es de: 2722362\n",
            "la cantidad total de datos del dataset es de 6362620\n",
            "\n",
            " la maxima cantidad de repeticiones para la columna nameOrig es de 3 y se debe al nombre C1902386530\n",
            "la cantidad de fraudes detectados para ese nombre es de: 0\n",
            "\n",
            " la maxima cantidad de repeticiones para la columna nameDest es de 113 y se debe al nombre C1286084959\n",
            "la cantidad de fraudes detectados para ese nombre es de: 0\n"
          ]
        }
      ],
      "source": [
        "# Analizamos los nombres de los originarios y destinatarios de las transacciones. Cuantos son? \n",
        "# Vale la pena mantener ese dato para el análisis?\n",
        "n = len(dataset['nameOrig'].unique())\n",
        "print('la cantidad de datos únicos para la variable {} es de: {}'.format('nameOrig', n))\n",
        "n = len(dataset['nameDest'].unique())\n",
        "print('la cantidad de datos únicos para la variable {} es de: {}'.format('nameDest', n))\n",
        "print('la cantidad total de datos del dataset es de {}'.format(len(dataset['nameOrig'])))\n",
        "\n",
        "# Buscamos los originarios y destinatarios mas repetidos para detectar patrones de comportamiento de esas personas\n",
        "a = dataset['nameOrig'].value_counts().max()\n",
        "b = dataset['nameOrig'].value_counts().idxmax()\n",
        "c = dataset[dataset['nameOrig'] == b].isFraud.sum()\n",
        "print('\\n la maxima cantidad de repeticiones para la columna {} es de {} y se debe al nombre {}'.format('nameOrig',a,b))\n",
        "print('la cantidad de fraudes detectados para ese nombre es de:',c)\n",
        "\n",
        "a = dataset['nameDest'].value_counts().max()\n",
        "b = dataset['nameDest'].value_counts().idxmax()\n",
        "c = dataset[dataset['nameDest'] == b].isFraud.sum()\n",
        "print('\\n la maxima cantidad de repeticiones para la columna {} es de {} y se debe al nombre {}'.format('nameDest',a,b))\n",
        "print('la cantidad de fraudes detectados para ese nombre es de:',c)"
      ]
    },
    {
      "cell_type": "code",
      "execution_count": 8,
      "id": "e088e879",
      "metadata": {
        "id": "e088e879"
      },
      "outputs": [],
      "source": [
        "# En base a estos resultados decidimos eliminar las dos variables, que consideramos no nos aportan \n",
        "# información significativa y requieren muchos recursos por ser variables categóricas con decenas de miles de valores distintos.\n",
        "dataset = dataset.drop(columns = {'nameOrig', 'nameDest'})"
      ]
    },
    {
      "cell_type": "code",
      "execution_count": 9,
      "id": "b402db23",
      "metadata": {
        "id": "b402db23",
        "outputId": "9573daae-6aa2-4bbb-9383-88458e6c0205",
        "colab": {
          "base_uri": "https://localhost:8080/"
        }
      },
      "outputs": [
        {
          "output_type": "stream",
          "name": "stdout",
          "text": [
            "step                int64\n",
            "type               object\n",
            "amount            float64\n",
            "oldbalanceOrg     float64\n",
            "newbalanceOrig    float64\n",
            "oldbalanceDest    float64\n",
            "newbalanceDest    float64\n",
            "isFraud             int64\n",
            "isFlaggedFraud      int64\n",
            "dtype: object\n",
            "\n",
            " los valores posibles que puede tomar la variable type es de 5\n"
          ]
        }
      ],
      "source": [
        "# Observamos que la única variable categórica restante es \"type\"\n",
        "print(dataset.dtypes)\n",
        "# vemos cuantos valores posibles puede tomar la variable\n",
        "print('\\n los valores posibles que puede tomar la variable type es de {}'.format(len(dataset['type'].unique())))"
      ]
    },
    {
      "cell_type": "code",
      "execution_count": 10,
      "id": "9753867d",
      "metadata": {
        "id": "9753867d",
        "outputId": "3b31a72e-26b6-48db-91ae-22a734199cf4",
        "colab": {
          "base_uri": "https://localhost:8080/",
          "height": 898
        }
      },
      "outputs": [
        {
          "output_type": "display_data",
          "data": {
            "text/plain": [
              "<Figure size 1008x1008 with 2 Axes>"
            ],
            "image/png": "[encoded data removed]"
          },
          "metadata": {
            "needs_background": "light"
          }
        }
      ],
      "source": [
        "# Observamos la correlación cruzada entre las variables\n",
        "fig, axes = plt.subplots(1,1,figsize=(14,14))\n",
        "\n",
        "r = dataset.corr(method='pearson')\n",
        "axes.set_title(\"Pearson Imputada\")\n",
        "sns.heatmap(r, cmap=sns.diverging_palette(220,10,as_cmap=True),annot=True,fmt=\".2f\",ax=axes)\n",
        "sns.set(font_scale=0.9)"
      ]
    },
    {
      "cell_type": "code",
      "execution_count": 11,
      "id": "fb7e316b",
      "metadata": {
        "id": "fb7e316b"
      },
      "outputs": [],
      "source": [
        "# Observamos que las variables de balance están altamente correlacionadas. Esto se explica porque el nuevo balance del destinatario\n",
        "# es igual al balance anterior menos el monto de la transacción. Por lo tanto podemos quedarnos únicamente con los balances previos\n",
        "# del originario y destinatario y el monto de la transacción:\n",
        "dataset = dataset.drop(columns = {'oldbalanceOrg', 'oldbalanceDest'})\n",
        "\n",
        "# Habíamos observado en el \"head\" que hay muchos datos faltantes, mostrados como cero, en las variables de balance de destinatario.\n"
      ]
    },
    {
      "cell_type": "code",
      "execution_count": 12,
      "id": "1b8b6b9f",
      "metadata": {
        "id": "1b8b6b9f",
        "outputId": "d2a35a19-657d-42d9-f386-8a2470d52576",
        "colab": {
          "base_uri": "https://localhost:8080/",
          "height": 206
        }
      },
      "outputs": [
        {
          "output_type": "execute_result",
          "data": {
            "text/plain": [
              "   step    amount  newbalanceOrig  newbalanceDest  isFraud  isFlaggedFraud  \\\n",
              "0     1   9839.64       160296.36             0.0        0               0   \n",
              "1     1   1864.28        19384.72             0.0        0               0   \n",
              "2     1    181.00            0.00             0.0        1               0   \n",
              "3     1    181.00            0.00             0.0        1               0   \n",
              "4     1  11668.14        29885.86             0.0        0               0   \n",
              "\n",
              "   type_CASH_IN  type_CASH_OUT  type_DEBIT  type_PAYMENT  type_TRANSFER  \n",
              "0             0              0           0             1              0  \n",
              "1             0              0           0             1              0  \n",
              "2             0              0           0             0              1  \n",
              "3             0              1           0             0              0  \n",
              "4             0              0           0             1              0  "
            ],
            "text/html": [
              "\n",
              "  <div id=\"df-307f10c8-1af0-4179-955b-76d5614b6fc7\">\n",
              "    <div class=\"colab-df-container\">\n",
              "      <div>\n",
              "<style scoped>\n",
              "    .dataframe tbody tr th:only-of-type {\n",
              "        vertical-align: middle;\n",
              "    }\n",
              "\n",
              "    .dataframe tbody tr th {\n",
              "        vertical-align: top;\n",
              "    }\n",
              "\n",
              "    .dataframe thead th {\n",
              "        text-align: right;\n",
              "    }\n",
              "</style>\n",
              "<table border=\"1\" class=\"dataframe\">\n",
              "  <thead>\n",
              "    <tr style=\"text-align: right;\">\n",
              "      <th></th>\n",
              "      <th>step</th>\n",
              "      <th>amount</th>\n",
              "      <th>newbalanceOrig</th>\n",
              "      <th>newbalanceDest</th>\n",
              "      <th>isFraud</th>\n",
              "      <th>isFlaggedFraud</th>\n",
              "      <th>type_CASH_IN</th>\n",
              "      <th>type_CASH_OUT</th>\n",
              "      <th>type_DEBIT</th>\n",
              "      <th>type_PAYMENT</th>\n",
              "      <th>type_TRANSFER</th>\n",
              "    </tr>\n",
              "  </thead>\n",
              "  <tbody>\n",
              "    <tr>\n",
              "      <th>0</th>\n",
              "      <td>1</td>\n",
              "      <td>9839.64</td>\n",
              "      <td>160296.36</td>\n",
              "      <td>0.0</td>\n",
              "      <td>0</td>\n",
              "      <td>0</td>\n",
              "      <td>0</td>\n",
              "      <td>0</td>\n",
              "      <td>0</td>\n",
              "      <td>1</td>\n",
              "      <td>0</td>\n",
              "    </tr>\n",
              "    <tr>\n",
              "      <th>1</th>\n",
              "      <td>1</td>\n",
              "      <td>1864.28</td>\n",
              "      <td>19384.72</td>\n",
              "      <td>0.0</td>\n",
              "      <td>0</td>\n",
              "      <td>0</td>\n",
              "      <td>0</td>\n",
              "      <td>0</td>\n",
              "      <td>0</td>\n",
              "      <td>1</td>\n",
              "      <td>0</td>\n",
              "    </tr>\n",
              "    <tr>\n",
              "      <th>2</th>\n",
              "      <td>1</td>\n",
              "      <td>181.00</td>\n",
              "      <td>0.00</td>\n",
              "      <td>0.0</td>\n",
              "      <td>1</td>\n",
              "      <td>0</td>\n",
              "      <td>0</td>\n",
              "      <td>0</td>\n",
              "      <td>0</td>\n",
              "      <td>0</td>\n",
              "      <td>1</td>\n",
              "    </tr>\n",
              "    <tr>\n",
              "      <th>3</th>\n",
              "      <td>1</td>\n",
              "      <td>181.00</td>\n",
              "      <td>0.00</td>\n",
              "      <td>0.0</td>\n",
              "      <td>1</td>\n",
              "      <td>0</td>\n",
              "      <td>0</td>\n",
              "      <td>1</td>\n",
              "      <td>0</td>\n",
              "      <td>0</td>\n",
              "      <td>0</td>\n",
              "    </tr>\n",
              "    <tr>\n",
              "      <th>4</th>\n",
              "      <td>1</td>\n",
              "      <td>11668.14</td>\n",
              "      <td>29885.86</td>\n",
              "      <td>0.0</td>\n",
              "      <td>0</td>\n",
              "      <td>0</td>\n",
              "      <td>0</td>\n",
              "      <td>0</td>\n",
              "      <td>0</td>\n",
              "      <td>1</td>\n",
              "      <td>0</td>\n",
              "    </tr>\n",
              "  </tbody>\n",
              "</table>\n",
              "</div>\n",
              "      <button class=\"colab-df-convert\" onclick=\"convertToInteractive('df-307f10c8-1af0-4179-955b-76d5614b6fc7')\"\n",
              "              title=\"Convert this dataframe to an interactive table.\"\n",
              "              style=\"display:none;\">\n",
              "        \n",
              "  <svg xmlns=\"http://www.w3.org/2000/svg\" height=\"24px\"viewBox=\"0 0 24 24\"\n",
              "       width=\"24px\">\n",
              "    <path d=\"M0 0h24v24H0V0z\" fill=\"none\"/>\n",
              "    <path d=\"M18.56 5.44l.94 2.06.94-2.06 2.06-.94-2.06-.94-.94-2.06-.94 2.06-2.06.94zm-11 1L8.5 8.5l.94-2.06 2.06-.94-2.06-.94L8.5 2.5l-.94 2.06-2.06.94zm10 10l.94 2.06.94-2.06 2.06-.94-2.06-.94-.94-2.06-.94 2.06-2.06.94z\"/><path d=\"M17.41 7.96l-1.37-1.37c-.4-.4-.92-.59-1.43-.59-.52 0-1.04.2-1.43.59L10.3 9.45l-7.72 7.72c-.78.78-.78 2.05 0 2.83L4 21.41c.39.39.9.59 1.41.59.51 0 1.02-.2 1.41-.59l7.78-7.78 2.81-2.81c.8-.78.8-2.07 0-2.86zM5.41 20L4 18.59l7.72-7.72 1.47 1.35L5.41 20z\"/>\n",
              "  </svg>\n",
              "      </button>\n",
              "      \n",
              "  <style>\n",
              "    .colab-df-container {\n",
              "      display:flex;\n",
              "      flex-wrap:wrap;\n",
              "      gap: 12px;\n",
              "    }\n",
              "\n",
              "    .colab-df-convert {\n",
              "      background-color: #E8F0FE;\n",
              "      border: none;\n",
              "      border-radius: 50%;\n",
              "      cursor: pointer;\n",
              "      display: none;\n",
              "      fill: #1967D2;\n",
              "      height: 32px;\n",
              "      padding: 0 0 0 0;\n",
              "      width: 32px;\n",
              "    }\n",
              "\n",
              "    .colab-df-convert:hover {\n",
              "      background-color: #E2EBFA;\n",
              "      box-shadow: 0px 1px 2px rgba(60, 64, 67, 0.3), 0px 1px 3px 1px rgba(60, 64, 67, 0.15);\n",
              "      fill: #174EA6;\n",
              "    }\n",
              "\n",
              "    [theme=dark] .colab-df-convert {\n",
              "      background-color: #3B4455;\n",
              "      fill: #D2E3FC;\n",
              "    }\n",
              "\n",
              "    [theme=dark] .colab-df-convert:hover {\n",
              "      background-color: #434B5C;\n",
              "      box-shadow: 0px 1px 3px 1px rgba(0, 0, 0, 0.15);\n",
              "      filter: drop-shadow(0px 1px 2px rgba(0, 0, 0, 0.3));\n",
              "      fill: #FFFFFF;\n",
              "    }\n",
              "  </style>\n",
              "\n",
              "      <script>\n",
              "        const buttonEl =\n",
              "          document.querySelector('#df-307f10c8-1af0-4179-955b-76d5614b6fc7 button.colab-df-convert');\n",
              "        buttonEl.style.display =\n",
              "          google.colab.kernel.accessAllowed ? 'block' : 'none';\n",
              "\n",
              "        async function convertToInteractive(key) {\n",
              "          const element = document.querySelector('#df-307f10c8-1af0-4179-955b-76d5614b6fc7');\n",
              "          const dataTable =\n",
              "            await google.colab.kernel.invokeFunction('convertToInteractive',\n",
              "                                                     [key], {});\n",
              "          if (!dataTable) return;\n",
              "\n",
              "          const docLinkHtml = 'Like what you see? Visit the ' +\n",
              "            '<a target=\"_blank\" href=https://colab.research.google.com/notebooks/data_table.ipynb>data table notebook</a>'\n",
              "            + ' to learn more about interactive tables.';\n",
              "          element.innerHTML = '';\n",
              "          dataTable['output_type'] = 'display_data';\n",
              "          await google.colab.output.renderOutput(dataTable, element);\n",
              "          const docLink = document.createElement('div');\n",
              "          docLink.innerHTML = docLinkHtml;\n",
              "          element.appendChild(docLink);\n",
              "        }\n",
              "      </script>\n",
              "    </div>\n",
              "  </div>\n",
              "  "
            ]
          },
          "metadata": {},
          "execution_count": 12
        }
      ],
      "source": [
        "# transformamos la variable en numércia con el método One Hot Encoder\n",
        "dataset = pd.get_dummies(dataset)\n",
        "dataset.head(5)"
      ]
    },
    {
      "cell_type": "code",
      "execution_count": 13,
      "id": "da46e76f",
      "metadata": {
        "id": "da46e76f",
        "outputId": "3e10fe8b-c1e7-43d7-df0b-7f7f390f49cb",
        "colab": {
          "base_uri": "https://localhost:8080/",
          "height": 310
        }
      },
      "outputs": [
        {
          "output_type": "execute_result",
          "data": {
            "text/plain": [
              "<matplotlib.axes._subplots.AxesSubplot at 0x7f48b97248d0>"
            ]
          },
          "metadata": {},
          "execution_count": 13
        },
        {
          "output_type": "display_data",
          "data": {
            "text/plain": [
              "<Figure size 432x288 with 1 Axes>"
            ],
            "image/png": "[encoded data removed]"
          },
          "metadata": {}
        }
      ],
      "source": [
        "# Realizamos un gráfico sencillo para intuír la relación de las variables \"amount\" y \"newbalanceOrig\" con la posibilidad de fraude.\n",
        "# Observamos que el monto de la transacción está correlacionado con la posibilidad de fraude.\n",
        "sns.scatterplot(data=dataset, x=\"amount\", y=\"newbalanceOrig\", hue=\"isFraud\")  "
      ]
    },
    {
      "cell_type": "code",
      "source": [
        "# Analizamos que proporción de fraudes hay en cada uno de los tipos de operación, para tener una idea si es una variable significativa:\n",
        "cash_in = len(dataset[(dataset['type_CASH_IN'] == 1) & (dataset['isFraud'] == 1)])/ len(dataset[dataset['type_CASH_IN'] ==1])*100\n",
        "cash_out = len(dataset[(dataset['type_CASH_OUT'] ==1) & (dataset['isFraud'] == 1)])/ len(dataset[dataset['type_CASH_OUT'] ==1])*100\n",
        "debit = len(dataset[(dataset['type_DEBIT'] ==1) & (dataset['isFraud'] == 1)])/ len(dataset[dataset['type_DEBIT'] ==1])*100\n",
        "payment = len(dataset[(dataset['type_PAYMENT'] ==1) & (dataset['isFraud'] == 1)])/ len(dataset[dataset['type_PAYMENT'] ==1])*100\n",
        "transfer = len(dataset[(dataset['type_TRANSFER'] ==1) & (dataset['isFraud'] == 1)])/ len(dataset[dataset['type_TRANSFER'] ==1])*100\n",
        "print('El porcentaje de fraudes cometidos con el tipo de pago Cash In es de {}'.format(cash_in))\n",
        "print('El porcentaje de fraudes cometidos con el tipo de pago Cash Out es de {}'.format(cash_out))\n",
        "print('El porcentaje de fraudes cometidos con el tipo de pago Debit es de {}'.format(debit))\n",
        "print('El porcentaje de fraudes cometidos con el tipo de pago payment es de {}'.format(payment))\n",
        "print('El porcentaje de fraudes cometidos con el tipo de pago transfer es de {}'.format(transfer))\n",
        "\n",
        "# Observamos que la forma de pago Transfer es la mas habitual para fraudes, seguida por la forma Cash Out. Las otras formas de pago no registran fraudes."
      ],
      "metadata": {
        "colab": {
          "base_uri": "https://localhost:8080/"
        },
        "id": "BYvLlOQheard",
        "outputId": "e0f2a6d9-82dc-4aa3-a3f2-86444c59dbdc"
      },
      "id": "BYvLlOQheard",
      "execution_count": 14,
      "outputs": [
        {
          "output_type": "stream",
          "name": "stdout",
          "text": [
            "El porcentaje de fraudes cometidos con el tipo de pago Cash In es de 0.0\n",
            "El porcentaje de fraudes cometidos con el tipo de pago Cash Out es de 0.18395530726256984\n",
            "El porcentaje de fraudes cometidos con el tipo de pago Debit es de 0.0\n",
            "El porcentaje de fraudes cometidos con el tipo de pago payment es de 0.0\n",
            "El porcentaje de fraudes cometidos con el tipo de pago transfer es de 0.7687991758442811\n"
          ]
        }
      ]
    },
    {
      "cell_type": "code",
      "execution_count": 29,
      "id": "4fdf6abb",
      "metadata": {
        "id": "4fdf6abb",
        "outputId": "f7a70170-929a-43c2-da0d-668fe49f89f2",
        "colab": {
          "base_uri": "https://localhost:8080/"
        }
      },
      "outputs": [
        {
          "output_type": "stream",
          "name": "stdout",
          "text": [
            "X Train :  (5726358, 10)\n",
            "X Test  :  (636262, 10)\n",
            "Y Train :  (5726358,)\n",
            "Y Test  :  (636262,)\n"
          ]
        }
      ],
      "source": [
        "# Definimos la variable de salida:\n",
        "X = dataset.drop(columns='isFraud')           \n",
        "y = dataset['isFraud']    \n",
        "\n",
        "# Dividimos el dataset en train y test previo a comenzar a implementar los modelos de machine learning. Dejamos muy pocos datos de testeo porque luego haremos \n",
        "# undersamplig\n",
        "from sklearn.model_selection import train_test_split\n",
        "X_train, X_test, y_train, y_test = train_test_split(X, y, test_size=0.1, random_state=23)\n",
        "\n",
        "print(\"X Train : \", X_train.shape)\n",
        "print(\"X Test  : \", X_test.shape)\n",
        "print(\"Y Train : \", y_train.shape)\n",
        "print(\"Y Test  : \", y_test.shape)"
      ]
    },
    {
      "cell_type": "markdown",
      "id": "2c610974",
      "metadata": {
        "id": "2c610974"
      },
      "source": [
        "## MODELO DE INFERENCIA DE LA VARIABLE DE SALIDA:\n",
        "# RANDOM FOREST"
      ]
    },
    {
      "cell_type": "markdown",
      "source": [
        "##### Antes que nada se hace un \"undersampling\" para balancear las clases (hay muchos mas no-fraudes que fraudes), y, por otro lado, el dataset es muy grande y es una forma de trabajar con veolocidad aceptable para los recursos con los que contamos"
      ],
      "metadata": {
        "id": "iorMQKtF6KjN"
      },
      "id": "iorMQKtF6KjN"
    },
    {
      "cell_type": "code",
      "source": [
        "# Hacemos el UndersSampler\n",
        "\n",
        "undersampler=RandomUnderSampler(sampling_strategy= 'majority');\n",
        "\n",
        "X_train_us,y_train_us=undersampler.fit_resample(X_train,y_train);\n",
        "\n",
        "print('Cantidad de datos de entrenamiento:')\n",
        "print(len(y_train_us))\n",
        "print('Cantidad de datos de testeo:')\n",
        "print(len(y_test))\n",
        "\n",
        "print('\\nClases train:')\n",
        "print(y_train_us.value_counts(normalize=True))\n",
        "\n",
        "print('\\nClases test:')\n",
        "print(y_test.value_counts(normalize=True))"
      ],
      "metadata": {
        "id": "2GGEE4XJ6gWZ",
        "colab": {
          "base_uri": "https://localhost:8080/"
        },
        "outputId": "4b4a6fc1-eb3f-4b85-e0d1-d5d6c152355a"
      },
      "id": "2GGEE4XJ6gWZ",
      "execution_count": 30,
      "outputs": [
        {
          "output_type": "stream",
          "name": "stdout",
          "text": [
            "Cantidad de datos de entrenamiento:\n",
            "14704\n",
            "Cantidad de datos de testeo:\n",
            "636262\n",
            "\n",
            "Clases train:\n",
            "0    0.5\n",
            "1    0.5\n",
            "Name: isFraud, dtype: float64\n",
            "\n",
            "Clases test:\n",
            "0    0.998647\n",
            "1    0.001353\n",
            "Name: isFraud, dtype: float64\n"
          ]
        }
      ]
    },
    {
      "cell_type": "code",
      "execution_count": 31,
      "id": "e8e8b916",
      "metadata": {
        "id": "e8e8b916"
      },
      "outputs": [],
      "source": [
        "# Imoortamos la librería de Random Forest y las librerías de métricas\n",
        "from sklearn.ensemble import RandomForestRegressor\n",
        "from sklearn.metrics import accuracy_score,plot_confusion_matrix,roc_auc_score, classification_report, confusion_matrix, precision_recall_curve, auc\n",
        "# Instanciamos el modelo con 100 árboles de decisión\n",
        "rf = RandomForestRegressor(n_estimators = 100, random_state = 5)\n",
        "# Entrenamos el modelo con los datos de entrenamiento\n",
        "rf.fit(X_train_us, y_train_us);"
      ]
    },
    {
      "cell_type": "code",
      "source": [
        "# Observamos las métricas que obtuvimos con este método:\n",
        "\n",
        "y_pred=rf.predict(X_test)\n",
        "\n",
        "errors = abs(y_pred - y_test)\n",
        "\n",
        "# Mostrar las métricas de rendimiento\n",
        "print('Mean Absolute Error:', round(np.mean(errors), 2), 'degrees.')\n",
        "\n",
        "Precision = 100 - 100*errors.sum()/len(errors)\n",
        "print('Precisión:', round(Precision, 2), '%.')"
      ],
      "metadata": {
        "colab": {
          "base_uri": "https://localhost:8080/"
        },
        "id": "ZsTi3hgzqwvA",
        "outputId": "0b226e8e-aa8e-4d91-bcd2-0359710011f3"
      },
      "id": "ZsTi3hgzqwvA",
      "execution_count": 32,
      "outputs": [
        {
          "output_type": "stream",
          "name": "stdout",
          "text": [
            "Mean Absolute Error: 0.09 degrees.\n",
            "Precisión: 90.88 %.\n"
          ]
        }
      ]
    },
    {
      "cell_type": "code",
      "execution_count": 33,
      "id": "d4fe6887",
      "metadata": {
        "id": "d4fe6887"
      },
      "outputs": [],
      "source": [
        "# Observamos una rama del árbol para analizar\n",
        "\n",
        "#from sklearn.tree import export_graphviz\n",
        "#import pydot\n",
        "#import os\n",
        "#os.environ[\"PATH\"] += os.pathsep + 'C:/Users/Aulamultimedia/anaconda3/pkgs/graphviz-2.38-hfd603c8_2/Library/bin/graphviz'\n",
        "#os.environ[\"PATH\"] += os.pathsep + 'C:/Users/Aulamultimedia/anaconda3/pkgs/graphviz-2.38-hfd603c8_2/Library/bin/'\n",
        "# Saca un árbol del bosque\n",
        "#tree = rf.estimators_[10]\n",
        "# Exportar la imagen a un archivo de puntos\n",
        "df_list = list(X.columns)\n",
        "#export_graphviz(tree, out_file = 'tree.dot', feature_names = df_list, rounded = True, precision = 1)\n",
        "# Usamos dot file para crear el grafo\n",
        "#(graph, ) = pydot.graph_from_dot_file('tree.dot')\n",
        "# Escribir el gráfico en un archivo png\n",
        "#graph.write_png('tree.png'); \n",
        "#print('La profundidad de este árbol es:', tree.tree_.max_depth)\n",
        "\n",
        "# Ver el arbol en el archivo \"tree.png\""
      ]
    },
    {
      "cell_type": "code",
      "execution_count": 34,
      "id": "7d045a62",
      "metadata": {
        "id": "7d045a62",
        "outputId": "061e159f-44a2-4af8-87e4-3a1647899e48",
        "colab": {
          "base_uri": "https://localhost:8080/"
        }
      },
      "outputs": [
        {
          "output_type": "stream",
          "name": "stdout",
          "text": [
            "Variable: newbalanceOrig       Importance: 0.22\n",
            "Variable: newbalanceDest       Importance: 0.19\n",
            "Variable: step                 Importance: 0.18\n",
            "Variable: amount               Importance: 0.17\n",
            "Variable: type_PAYMENT         Importance: 0.14\n",
            "Variable: type_TRANSFER        Importance: 0.05\n",
            "Variable: type_CASH_OUT        Importance: 0.04\n",
            "Variable: isFlaggedFraud       Importance: 0.0\n",
            "Variable: type_CASH_IN         Importance: 0.0\n",
            "Variable: type_DEBIT           Importance: 0.0\n"
          ]
        }
      ],
      "source": [
        "# Analizamos la importancia de las variables\n",
        "\n",
        "importances = list(rf.feature_importances_)\n",
        "feature_importances = [(feature, round(importance, 2)) for feature, importance in zip(df_list, importances)]\n",
        "feature_importances = sorted(feature_importances, key = lambda x: x[1], reverse = True) \n",
        "[print('Variable: {:20} Importance: {}'.format(*pair)) for pair in feature_importances];"
      ]
    },
    {
      "cell_type": "code",
      "execution_count": 35,
      "id": "34528207",
      "metadata": {
        "id": "34528207",
        "outputId": "ce55dcd4-6db2-49bc-c768-fa9a6bc94650",
        "colab": {
          "base_uri": "https://localhost:8080/",
          "height": 385
        }
      },
      "outputs": [
        {
          "output_type": "execute_result",
          "data": {
            "text/plain": [
              "Text(0.5, 1.0, ' Importancia de las variables')"
            ]
          },
          "metadata": {},
          "execution_count": 35
        },
        {
          "output_type": "display_data",
          "data": {
            "text/plain": [
              "<Figure size 432x288 with 1 Axes>"
            ],
            "image/png": "[encoded data removed]"
          },
          "metadata": {}
        }
      ],
      "source": [
        "# Graficamos la importancia de las variables en la definición de la estimación\n",
        "# lista de ubicaciones x para el gráfico\n",
        "x_values = list(range(len(importances)))\n",
        "# Hacer un gráfico de barras\n",
        "plt.bar(x_values, importances, orientation = 'vertical')\n",
        "# Etiquetas para el eje x\n",
        "plt.xticks(x_values, df_list, rotation='vertical')\n",
        "# Etiquetas y título de los ejes\n",
        "plt.ylabel('Importancia'); plt.xlabel('Variable'); plt.title(' Importancia de las variables') "
      ]
    },
    {
      "cell_type": "markdown",
      "id": "af0710a6",
      "metadata": {
        "id": "af0710a6"
      },
      "source": [
        "## Principal Components Analysis"
      ]
    },
    {
      "cell_type": "code",
      "execution_count": 36,
      "id": "f3b52fdd",
      "metadata": {
        "id": "f3b52fdd",
        "outputId": "d0ccce50-a2e4-437c-b034-6360e94d0ccb",
        "colab": {
          "base_uri": "https://localhost:8080/",
          "height": 445
        }
      },
      "outputs": [
        {
          "output_type": "display_data",
          "data": {
            "text/plain": [
              "<Figure size 720x504 with 1 Axes>"
            ],
            "image/png": "[encoded data removed]"
          },
          "metadata": {}
        }
      ],
      "source": [
        "# Utilizamos PCA para reducir las dimensiones, para obtener únicamente dos features\n",
        "from sklearn.decomposition import PCA\n",
        "pca = PCA(n_components=10, random_state=5).fit(X)\n",
        "plt.figure(figsize=(10,7))\n",
        "plt.plot(np.cumsum(pca.explained_variance_ratio_), color='k', lw=2)\n",
        "plt.xlabel('Cantidad de componentes')\n",
        "plt.ylabel('Total varianza contemplada')\n",
        "plt.xlim(0, 10)\n",
        "plt.yticks(np.arange(0, 1.1, 0.1))\n",
        "plt.axvline(63, c='b')\n",
        "plt.axhline(0.9, c='r')\n",
        "plt.show();\n"
      ]
    },
    {
      "cell_type": "markdown",
      "id": "f09f057e",
      "metadata": {
        "id": "f09f057e"
      },
      "source": [
        "#### Esto significa que con una sola componente explicamos cerca del 99% de la varianza!"
      ]
    },
    {
      "cell_type": "code",
      "execution_count": 23,
      "id": "83d911ec",
      "metadata": {
        "id": "83d911ec"
      },
      "outputs": [],
      "source": [
        "# Creamos un nuevo pca dos features\n",
        "pca2 = PCA(n_components=2, random_state=5).fit(X)\n",
        "x_pca2 = pca2.transform(X)"
      ]
    },
    {
      "cell_type": "code",
      "execution_count": 24,
      "id": "4654cc37",
      "metadata": {
        "id": "4654cc37",
        "outputId": "574ab1f5-8672-473a-cd65-0d17707107b8",
        "colab": {
          "base_uri": "https://localhost:8080/",
          "height": 621
        }
      },
      "outputs": [
        {
          "output_type": "display_data",
          "data": {
            "text/plain": [
              "<Figure size 864x720 with 2 Axes>"
            ],
            "image/png": "[encoded data removed]"
          },
          "metadata": {}
        }
      ],
      "source": [
        "# Graficamos \n",
        "plt.figure(figsize=(12,10))\n",
        "plt.scatter(x_pca2[:, 0], x_pca2[:, 1], c=y, edgecolor='none', alpha=0.7, s=40, cmap=plt.cm.get_cmap('prism', 2))\n",
        "plt.colorbar()\n",
        "plt.title('HAR - PCA projection 2D');"
      ]
    },
    {
      "cell_type": "code",
      "execution_count": 25,
      "id": "c0ccdab6",
      "metadata": {
        "id": "c0ccdab6"
      },
      "outputs": [],
      "source": [
        "# Armamos un dataframe para facilitar la visualización\n",
        "d = {'X': x_pca2[:, 0], 'y': y}\n",
        "df = pd.DataFrame(data=d)"
      ]
    },
    {
      "cell_type": "code",
      "execution_count": 26,
      "id": "4c66aee6",
      "metadata": {
        "id": "4c66aee6",
        "outputId": "aebf14d8-d52f-47d8-a098-9113d0ff2ffc",
        "colab": {
          "base_uri": "https://localhost:8080/",
          "height": 459
        }
      },
      "outputs": [
        {
          "output_type": "display_data",
          "data": {
            "text/plain": [
              "<Figure size 1440x504 with 1 Axes>"
            ],
            "image/png": "[encoded data removed]"
          },
          "metadata": {}
        }
      ],
      "source": [
        "# hacemos plots para ver como se comporta la variable principal de PCA respecto a la salida\n",
        "plt.figure(figsize=(20,7))\n",
        "sns.scatterplot(data=df, x=\"X\",y=\"y\",label=\"PCA feature\")\n",
        "plt.ylabel(\"PCA feature\")\n",
        "plt.title(\"PCA feature vs isFraud\")\n",
        "plt.legend()\n",
        "plt.show()"
      ]
    },
    {
      "cell_type": "markdown",
      "id": "976f8fb3",
      "metadata": {
        "id": "976f8fb3"
      },
      "source": [
        "## SUPPORT VECTOR MACHINE no lineal"
      ]
    },
    {
      "cell_type": "code",
      "execution_count": 37,
      "id": "26b42e8c",
      "metadata": {
        "id": "26b42e8c"
      },
      "outputs": [],
      "source": [
        "# Importamos las librerías que utilizaremos para este modelo\n",
        "from sklearn.metrics import mean_absolute_error ,mean_squared_error, median_absolute_error,confusion_matrix,accuracy_score\n",
        "from sklearn.svm import SVC \n",
        "from sklearn.preprocessing import StandardScaler\n",
        "from sklearn.pipeline import Pipeline"
      ]
    },
    {
      "cell_type": "code",
      "execution_count": 38,
      "id": "ca32d448",
      "metadata": {
        "id": "ca32d448",
        "colab": {
          "base_uri": "https://localhost:8080/"
        },
        "outputId": "522822d9-b04d-4113-e674-fb2df232b28a"
      },
      "outputs": [
        {
          "output_type": "stream",
          "name": "stdout",
          "text": [
            "Score the X-train with Y-train is :  0.7998503808487486\n",
            "Score the X-test  with Y-test  is :  0.916144607095819\n",
            " Model Evaluation SVC : accuracy score  0.916144607095819\n"
          ]
        }
      ],
      "source": [
        "#Definimos el modelo para SVM lineal\n",
        "svc_model = SVC(C=50,kernel=\"rbf\")\n",
        "\n",
        "# fit model\n",
        "svc_model.fit(X_train_us,y_train_us)\n",
        "\n",
        "y_pred_svc =svc_model.predict(X_test)\n",
        "\n",
        "print(\"Score the X-train with Y-train is : \", svc_model.score(X_train_us,y_train_us))\n",
        "print(\"Score the X-test  with Y-test  is : \", svc_model.score(X_test,y_test))\n",
        "print(\" Model Evaluation SVC : accuracy score \" , accuracy_score(y_test,y_pred_svc))"
      ]
    },
    {
      "cell_type": "code",
      "execution_count": 40,
      "id": "e0539330",
      "metadata": {
        "id": "e0539330",
        "colab": {
          "base_uri": "https://localhost:8080/"
        },
        "outputId": "bbc8f988-4b13-4989-f70f-310ec24cc6a6"
      },
      "outputs": [
        {
          "output_type": "stream",
          "name": "stdout",
          "text": [
            "Cantidad de datos de testeo:\n",
            "1722\n",
            "\n",
            "Clases test:\n",
            "0    0.5\n",
            "1    0.5\n",
            "Name: isFraud, dtype: float64\n",
            "Score the X-test undersampled  with Y-test  is :  0.7984901277584204\n",
            " Model Evaluation SVC : accuracy score  0.7984901277584204\n"
          ]
        }
      ],
      "source": [
        "# Observamos que el modelo performa mejor con los valores de Test debido al desbalanceo de clases. Entonces probamos\n",
        "# balancear los valores de testeo y volver a calcular el Accuracy:\n",
        "X_test_us,y_test_us=undersampler.fit_resample(X_test,y_test);\n",
        "\n",
        "print('Cantidad de datos de testeo:')\n",
        "print(len(y_test_us))\n",
        "\n",
        "print('\\nClases test:')\n",
        "print(y_test_us.value_counts(normalize=True))\n",
        "\n",
        "y_pred_svc_us =svc_model.predict(X_test_us)\n",
        "print(\"Score the X-test undersampled  with Y-test  is : \", svc_model.score(X_test_us,y_test_us))\n",
        "print(\" Model Evaluation SVC : accuracy score \" , accuracy_score(y_test_us,y_pred_svc_us))"
      ]
    },
    {
      "cell_type": "code",
      "source": [
        "# Observamos que el Accuracy sobre los datos de testeo son levemente menores que el parámetro del set de entrenamiento.\n",
        "# Esto implica que el modelo no sobre-ajusta y el parámetro está bien estimado. Sin embargo la performance de este modelo no es buena, en comparación\n",
        "# con el model de random forest.\n",
        "\n"
      ],
      "metadata": {
        "id": "WA8CKPnm5c05"
      },
      "id": "WA8CKPnm5c05",
      "execution_count": null,
      "outputs": []
    }
  ],
  "metadata": {
    "kernelspec": {
      "display_name": "vision1",
      "language": "python",
      "name": "vision1"
    },
    "language_info": {
      "codemirror_mode": {
        "name": "ipython",
        "version": 3
      },
      "file_extension": ".py",
      "mimetype": "text/x-python",
      "name": "python",
      "nbconvert_exporter": "python",
      "pygments_lexer": "ipython3",
      "version": "3.9.7"
    },
    "colab": {
      "name": "TP1_MachineLearning1.ipynb",
      "provenance": [],
      "collapsed_sections": []
    }
  },
  "nbformat": 4,
  "nbformat_minor": 5
}